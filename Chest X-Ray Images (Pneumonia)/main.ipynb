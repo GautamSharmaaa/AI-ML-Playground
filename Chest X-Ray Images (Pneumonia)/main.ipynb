{
 "cells": [
  {
   "cell_type": "code",
   "execution_count": 2,
   "id": "a92022ac",
   "metadata": {},
   "outputs": [],
   "source": [
    "# Chest X-Ray Classification Pipeline\n",
    "\n",
    "import numpy as np\n",
    "import pandas as pd\n",
    "from pathlib import Path\n",
    "from tqdm import tqdm\n",
    "from PIL import Image\n",
    "import matplotlib.pyplot as plt\n",
    "import seaborn as sns\n",
    "\n",
    "from skimage.feature import hog, local_binary_pattern, graycomatrix, graycoprops\n",
    "from sklearn.model_selection import train_test_split\n",
    "from sklearn.preprocessing import StandardScaler\n",
    "from sklearn.linear_model import LogisticRegression\n",
    "from sklearn.tree import DecisionTreeClassifier\n",
    "from sklearn.ensemble import RandomForestClassifier\n",
    "from sklearn.metrics import (accuracy_score, precision_score, recall_score,\n",
    "                             f1_score, roc_auc_score, confusion_matrix, classification_report)"
   ]
  },
  {
   "cell_type": "code",
   "execution_count": 3,
   "id": "94b89425",
   "metadata": {},
   "outputs": [],
   "source": [
    "# Config\n",
    "EXTRACT_DIR = Path(\"./chest_xray\")   # path to dataset folder\n",
    "IMAGE_SIZE = (128, 128)\n",
    "RANDOM_STATE = 42\n",
    "TEST_SIZE = 0.15\n",
    "VAL_SIZE = 0.15\n",
    "\n",
    "HOG_PARAMS = {\n",
    "    'pixels_per_cell': (8, 8),\n",
    "    'cells_per_block': (2, 2),\n",
    "    'orientations': 9,\n",
    "    'block_norm': 'L2-Hys'\n",
    "}\n",
    "\n",
    "LBP_PARAMS = {'P': 8, 'R': 1, 'method': 'uniform'}\n",
    "GLCM_DISTANCES = [1]\n",
    "GLCM_ANGLES = [0, np.pi/4, np.pi/2, 3*np.pi/4]\n",
    "GLCM_PROPS = ['contrast', 'dissimilarity', 'homogeneity', 'energy', 'correlation', 'ASM']\n"
   ]
  },
  {
   "cell_type": "code",
   "execution_count": 4,
   "id": "f7bf1e6c",
   "metadata": {},
   "outputs": [],
   "source": [
    "# Helper Functions\n",
    "def gather_image_paths(base_dir: Path):\n",
    "    image_paths = []\n",
    "    for subset in ['train', 'val', 'test']:\n",
    "        d = base_dir / subset\n",
    "        if not d.exists():\n",
    "            continue\n",
    "        for label_dir in d.iterdir():\n",
    "            if label_dir.is_dir():\n",
    "                for img in label_dir.glob(\"*.jpeg\"):\n",
    "                    image_paths.append((img, label_dir.name, subset))\n",
    "    return pd.DataFrame(image_paths, columns=[\"path\",\"label\",\"split\"])\n",
    "\n",
    "def load_gray(path):\n",
    "    img = Image.open(path).convert(\"L\").resize((IMAGE_SIZE[1], IMAGE_SIZE[0]))\n",
    "    return np.array(img, dtype=np.uint8)\n",
    "\n",
    "def extract_hog(gray): \n",
    "    return hog(gray, **HOG_PARAMS)\n",
    "\n",
    "def extract_lbp(gray):\n",
    "    lbp = local_binary_pattern(gray, LBP_PARAMS['P'], LBP_PARAMS['R'], method=LBP_PARAMS['method'])\n",
    "    hist, _ = np.histogram(lbp.ravel(), bins=59, range=(0,59))\n",
    "    hist = hist.astype(\"float\")\n",
    "    hist /= (hist.sum() + 1e-7)\n",
    "    return hist\n",
    "\n",
    "def extract_glcm(gray):\n",
    "    img_q = (gray / (256//8)).astype('uint8')\n",
    "    glcm = graycomatrix(img_q, distances=GLCM_DISTANCES, angles=GLCM_ANGLES, levels=8, symmetric=True, normed=True)\n",
    "    return np.array([graycoprops(glcm, prop).mean() for prop in GLCM_PROPS])\n",
    "\n",
    "def build_features(gray): \n",
    "    return np.concatenate([extract_hog(gray), extract_lbp(gray), extract_glcm(gray)])\n"
   ]
  },
  {
   "cell_type": "code",
   "execution_count": 5,
   "id": "d414a808",
   "metadata": {},
   "outputs": [
    {
     "name": "stdout",
     "output_type": "stream",
     "text": [
      "Images: 5856\n",
      "label\n",
      "PNEUMONIA    4273\n",
      "NORMAL       1583\n",
      "Name: count, dtype: int64\n"
     ]
    },
    {
     "name": "stderr",
     "output_type": "stream",
     "text": [
      "100%|██████████| 5856/5856 [00:32<00:00, 180.76it/s]"
     ]
    },
    {
     "name": "stdout",
     "output_type": "stream",
     "text": [
      "Feature matrix: (5856, 8165)\n"
     ]
    },
    {
     "name": "stderr",
     "output_type": "stream",
     "text": [
      "\n"
     ]
    }
   ],
   "source": [
    "# Load dataset\n",
    "df = gather_image_paths(EXTRACT_DIR)\n",
    "print(\"Images:\", len(df))\n",
    "print(df[\"label\"].value_counts())\n",
    "\n",
    "# Extract features\n",
    "X, y = [], []\n",
    "for _, row in tqdm(df.iterrows(), total=len(df)):\n",
    "    gray = load_gray(row[\"path\"])\n",
    "    feat = build_features(gray)\n",
    "    X.append(feat)\n",
    "    y.append(0 if row[\"label\"].lower()==\"normal\" else 1)\n",
    "\n",
    "X, y = np.vstack(X), np.array(y)\n",
    "print(\"Feature matrix:\", X.shape)\n"
   ]
  },
  {
   "cell_type": "code",
   "execution_count": 6,
   "id": "9b9c93ba",
   "metadata": {},
   "outputs": [],
   "source": [
    "X_train_val, X_test, y_train_val, y_test = train_test_split(\n",
    "    X, y, test_size=TEST_SIZE, stratify=y, random_state=RANDOM_STATE)\n",
    "\n",
    "val_rel = VAL_SIZE / (1 - TEST_SIZE)\n",
    "X_train, X_val, y_train, y_val = train_test_split(\n",
    "    X_train_val, y_train_val, test_size=val_rel, stratify=y_train_val, random_state=RANDOM_STATE)\n",
    "\n",
    "scaler = StandardScaler()\n",
    "X_train_s, X_val_s, X_test_s = scaler.fit_transform(X_train), scaler.transform(X_val), scaler.transform(X_test)\n"
   ]
  },
  {
   "cell_type": "code",
   "execution_count": 7,
   "id": "4ce73dea",
   "metadata": {},
   "outputs": [],
   "source": [
    "def evaluate(name, model, X_t, y_t, save_plot=False):\n",
    "    y_pred = model.predict(X_t)\n",
    "    y_prob = model.predict_proba(X_t)[:,1] if hasattr(model,\"predict_proba\") else None\n",
    "    \n",
    "    print(f\"\\n{name} Classification Report:\\n\", classification_report(y_t, y_pred, target_names=[\"Normal\",\"Pneumonia\"]))\n",
    "    \n",
    "    cm = confusion_matrix(y_t, y_pred)\n",
    "    sns.heatmap(cm, annot=True, fmt=\"d\", cmap=\"Blues\", xticklabels=[\"Normal\",\"Pneumonia\"], yticklabels=[\"Normal\",\"Pneumonia\"])\n",
    "    plt.title(f\"Confusion Matrix - {name}\")\n",
    "    plt.show()\n",
    "    \n",
    "    if save_plot:\n",
    "        plt.savefig(f\"confusion_matrix_{name.replace(' ','_')}.png\")\n",
    "    \n",
    "    return {\n",
    "        \"accuracy\": accuracy_score(y_t,y_pred),\n",
    "        \"precision\": precision_score(y_t,y_pred),\n",
    "        \"recall\": recall_score(y_t,y_pred),\n",
    "        \"f1\": f1_score(y_t,y_pred),\n",
    "        \"auc\": roc_auc_score(y_t,y_prob) if y_prob is not None else None\n",
    "    }\n"
   ]
  },
  {
   "cell_type": "code",
   "execution_count": 8,
   "id": "ebc430b1",
   "metadata": {},
   "outputs": [
    {
     "name": "stdout",
     "output_type": "stream",
     "text": [
      "\n",
      "Logistic Regression Classification Report:\n",
      "               precision    recall  f1-score   support\n",
      "\n",
      "      Normal       0.92      0.90      0.91       238\n",
      "   Pneumonia       0.96      0.97      0.97       641\n",
      "\n",
      "    accuracy                           0.95       879\n",
      "   macro avg       0.94      0.93      0.94       879\n",
      "weighted avg       0.95      0.95      0.95       879\n",
      "\n"
     ]
    },
    {
     "data": {
      "image/png": "[encoded data removed]",
      "text/plain": [
       "<Figure size 640x480 with 2 Axes>"
      ]
     },
     "metadata": {},
     "output_type": "display_data"
    },
    {
     "name": "stdout",
     "output_type": "stream",
     "text": [
      "\n",
      "Decision Tree Classification Report:\n",
      "               precision    recall  f1-score   support\n",
      "\n",
      "      Normal       0.84      0.81      0.82       238\n",
      "   Pneumonia       0.93      0.94      0.94       641\n",
      "\n",
      "    accuracy                           0.91       879\n",
      "   macro avg       0.88      0.88      0.88       879\n",
      "weighted avg       0.91      0.91      0.91       879\n",
      "\n"
     ]
    },
    {
     "data": {
      "image/png": "[encoded data removed]",
      "text/plain": [
       "<Figure size 640x480 with 2 Axes>"
      ]
     },
     "metadata": {},
     "output_type": "display_data"
    },
    {
     "name": "stdout",
     "output_type": "stream",
     "text": [
      "\n",
      "Random Forest Classification Report:\n",
      "               precision    recall  f1-score   support\n",
      "\n",
      "      Normal       0.89      0.88      0.88       238\n",
      "   Pneumonia       0.95      0.96      0.96       641\n",
      "\n",
      "    accuracy                           0.94       879\n",
      "   macro avg       0.92      0.92      0.92       879\n",
      "weighted avg       0.94      0.94      0.94       879\n",
      "\n"
     ]
    },
    {
     "data": {
      "image/png": "[encoded data removed]",
      "text/plain": [
       "<Figure size 640x480 with 2 Axes>"
      ]
     },
     "metadata": {},
     "output_type": "display_data"
    },
    {
     "data": {
      "text/plain": [
       "<Figure size 640x480 with 0 Axes>"
      ]
     },
     "metadata": {},
     "output_type": "display_data"
    }
   ],
   "source": [
    "results = {}\n",
    "\n",
    "# Logistic Regression\n",
    "lr = LogisticRegression(max_iter=2000).fit(X_train_s, y_train)\n",
    "results[\"Logistic Regression\"] = evaluate(\"Logistic Regression\", lr, X_test_s, y_test, save_plot=True)\n",
    "\n",
    "# Decision Tree\n",
    "dt = DecisionTreeClassifier(max_depth=10, random_state=RANDOM_STATE).fit(X_train, y_train)\n",
    "results[\"Decision Tree\"] = evaluate(\"Decision Tree\", dt, X_test, y_test, save_plot=True)\n",
    "\n",
    "# Random Forest\n",
    "rf = RandomForestClassifier(n_estimators=100, max_depth=20, random_state=RANDOM_STATE).fit(X_train, y_train)\n",
    "results[\"Random Forest\"] = evaluate(\"Random Forest\", rf, X_test, y_test, save_plot=True)\n"
   ]
  },
  {
   "cell_type": "code",
   "execution_count": 9,
   "id": "2f252e9b",
   "metadata": {},
   "outputs": [
    {
     "name": "stdout",
     "output_type": "stream",
     "text": [
      "\n",
      "Model Comparison:\n"
     ]
    },
    {
     "data": {
      "text/html": [
       "<div>\n",
       "<style scoped>\n",
       "    .dataframe tbody tr th:only-of-type {\n",
       "        vertical-align: middle;\n",
       "    }\n",
       "\n",
       "    .dataframe tbody tr th {\n",
       "        vertical-align: top;\n",
       "    }\n",
       "\n",
       "    .dataframe thead th {\n",
       "        text-align: right;\n",
       "    }\n",
       "</style>\n",
       "<table border=\"1\" class=\"dataframe\">\n",
       "  <thead>\n",
       "    <tr style=\"text-align: right;\">\n",
       "      <th></th>\n",
       "      <th>accuracy</th>\n",
       "      <th>precision</th>\n",
       "      <th>recall</th>\n",
       "      <th>f1</th>\n",
       "      <th>auc</th>\n",
       "    </tr>\n",
       "  </thead>\n",
       "  <tbody>\n",
       "    <tr>\n",
       "      <th>Logistic Regression</th>\n",
       "      <td>0.951081</td>\n",
       "      <td>0.962848</td>\n",
       "      <td>0.970359</td>\n",
       "      <td>0.966589</td>\n",
       "      <td>0.982557</td>\n",
       "    </tr>\n",
       "    <tr>\n",
       "      <th>Decision Tree</th>\n",
       "      <td>0.906712</td>\n",
       "      <td>0.930663</td>\n",
       "      <td>0.942278</td>\n",
       "      <td>0.936434</td>\n",
       "      <td>0.813874</td>\n",
       "    </tr>\n",
       "    <tr>\n",
       "      <th>Random Forest</th>\n",
       "      <td>0.937429</td>\n",
       "      <td>0.954969</td>\n",
       "      <td>0.959438</td>\n",
       "      <td>0.957198</td>\n",
       "      <td>0.976940</td>\n",
       "    </tr>\n",
       "  </tbody>\n",
       "</table>\n",
       "</div>"
      ],
      "text/plain": [
       "                     accuracy  precision    recall        f1       auc\n",
       "Logistic Regression  0.951081   0.962848  0.970359  0.966589  0.982557\n",
       "Decision Tree        0.906712   0.930663  0.942278  0.936434  0.813874\n",
       "Random Forest        0.937429   0.954969  0.959438  0.957198  0.976940"
      ]
     },
     "metadata": {},
     "output_type": "display_data"
    },
    {
     "name": "stdout",
     "output_type": "stream",
     "text": [
      "✅ Metrics table saved as metrics_table.csv\n"
     ]
    }
   ],
   "source": [
    "results_df = pd.DataFrame(results).T\n",
    "print(\"\\nModel Comparison:\")\n",
    "display(results_df)\n",
    "\n",
    "# Save metrics to CSV\n",
    "results_df.to_csv(\"metrics_table.csv\", index=True)\n",
    "print(\"✅ Metrics table saved as metrics_table.csv\")\n"
   ]
  }
 ],
 "metadata": {
  "kernelspec": {
   "display_name": "venv",
   "language": "python",
   "name": "python3"
  },
  "language_info": {
   "codemirror_mode": {
    "name": "ipython",
    "version": 3
   },
   "file_extension": ".py",
   "mimetype": "text/x-python",
   "name": "python",
   "nbconvert_exporter": "python",
   "pygments_lexer": "ipython3",
   "version": "3.13.7"
  }
 },
 "nbformat": 4,
 "nbformat_minor": 5
}
